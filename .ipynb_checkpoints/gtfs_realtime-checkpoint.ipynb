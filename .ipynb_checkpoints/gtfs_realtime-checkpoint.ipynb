{
 "cells": [
  {
   "cell_type": "code",
   "execution_count": 228,
   "metadata": {},
   "outputs": [],
   "source": [
    "import pandas as pd\n",
    "import pymongo\n",
    "from datetime import datetime\n",
    "import math\n",
    "import numpy as np\n",
    "from numba import jit\n",
    "import geojson\n"
   ]
  },
  {
   "cell_type": "code",
   "execution_count": 41,
   "metadata": {},
   "outputs": [],
   "source": [
    "myclient = pymongo.MongoClient(\"mongodb://localhost:27017/\")\n",
    "\n",
    "mydb = myclient[\"tu-around\"]\n",
    "mycol = mydb[\"gpslogs\"]"
   ]
  },
  {
   "cell_type": "code",
   "execution_count": 1572,
   "metadata": {
    "scrolled": true
   },
   "outputs": [],
   "source": [
    "myquery = { \"carno\": \"0TU0001 (1B)\",\n",
    "           \"acctime\": { \"$gte\": datetime(2019,11,19, 3, 43, 0),\n",
    "                       \"$lt\": datetime(2019, 11, 19, 4, 10, 0)} }\n",
    "myselector = { \"_id\": 0, \"lat\": 1, \"lon\": 1, \"timestamp\": 1,\n",
    "              \"acctime\": 1, \"speed\": 1, \"direction\": 1\n",
    "             }\n",
    "mydoc = mycol.find(myquery, myselector)\n",
    "gps_log =  pd.DataFrame(list(mydoc))\n",
    "# remove 0 speed\n",
    "gps_log = gps_log[gps_log['speed'] > 0]"
   ]
  },
  {
   "cell_type": "code",
   "execution_count": 1547,
   "metadata": {
    "scrolled": true
   },
   "outputs": [],
   "source": [
    "df = pd.read_csv('shapes.txt')\n",
    "ngv1b = df[df['shape_id'] == 'ngv1b_0']"
   ]
  },
  {
   "cell_type": "code",
   "execution_count": 1548,
   "metadata": {},
   "outputs": [],
   "source": [
    "def haversine_np(lon1, lat1, lon2, lat2):\n",
    "    \"\"\"\n",
    "    Calculate the great circle distance between two points\n",
    "    on the earth (specified in decimal degrees)\n",
    "\n",
    "    All args must be of equal length.    \n",
    "\n",
    "    \"\"\"\n",
    "    lon1, lat1, lon2, lat2 = map(np.radians, [lon1, lat1, lon2, lat2])\n",
    "\n",
    "    dlon = lon2 - lon1\n",
    "    dlat = lat2 - lat1\n",
    "\n",
    "    a = np.sin(dlat/2.0)**2 + np.cos(lat1) * np.cos(lat2) * np.sin(dlon/2.0)**2\n",
    "\n",
    "    c = 2 * np.arcsin(np.sqrt(a))\n",
    "    km = 6371000 * c\n",
    "    return km\n",
    "\n",
    "def haversine_np_array(pxy):\n",
    "    EARTH_RADIUS = 6371000\n",
    "    pxy_rad = np.radians(pxy)\n",
    "    diff =  np.sin(np.diff(pxy_rad,axis=0)/2) ** 2\n",
    "    cos_lat = np.cos(pxy_rad[:, 1])\n",
    "    return 2 * np.arcsin(np.sqrt((diff[:, 1] + cos_lat[:-1] * cos_lat[1:] * diff[:, 0]))) * EARTH_RADIUS\n",
    "\n",
    "def bearing(lon1, lat1, lon2, lat2):\n",
    "    lon1, lat1, lon2, lat2 = map(np.radians, [lon1, lat1, lon2, lat2])\n",
    "    dlon = lon2 - lon1\n",
    "    y = np.sin(dlon) * np.cos(lat2)\n",
    "    x = np.cos(lat1) * np.sin(lat2) - np.sin(lat1) * np.cos(lat2) * np.cos(dlon)\n",
    "    brng = np.arctan2(y, x)\n",
    "#     brng =  np.degrees(brng)\n",
    "#     brng = (brng + 360) % 360\n",
    "#     if brng > 180:\n",
    "#         brng = 360 - brng\n",
    "    return brng\n",
    "\n",
    "def euclidean_dist(lon1, lat1, lon2, lat2):\n",
    "    dx = lon2 - lon1\n",
    "    dy = lat2 - lat1\n",
    "    return 108550 * np.sqrt(dx*dx + dy*dy)\n",
    "\n",
    "def angle(lon1, lat1, lon2, lat2):\n",
    "    dlon = lon2 - lon1\n",
    "    dlat = lat2 - lat1\n",
    "    return np.arctan2(dlon, dlat)"
   ]
  },
  {
   "cell_type": "code",
   "execution_count": 1549,
   "metadata": {},
   "outputs": [
    {
     "data": {
      "text/plain": [
       "(14.0657426, 14.077905553749266)"
      ]
     },
     "execution_count": 1549,
     "metadata": {},
     "output_type": "execute_result"
    },
    {
     "data": {
      "image/png": "[encoded data removed]",
      "text/plain": [
       "<Figure size 576x504 with 1 Axes>"
      ]
     },
     "metadata": {
      "needs_background": "light"
     },
     "output_type": "display_data"
    }
   ],
   "source": [
    "import matplotlib.pyplot as plt\n",
    "\n",
    "BBox = ((df.shape_pt_lon.min(),   df.shape_pt_lon.max(),      \n",
    "         df.shape_pt_lat.min(), df.shape_pt_lat.max())\n",
    "       )\n",
    "        \n",
    "fig, ax = plt.subplots(figsize = (8,7))\n",
    "ax.scatter(ngv1b.shape_pt_lon, ngv1b.shape_pt_lat, zorder=1, alpha= 0.2, c='b', s=10)\n",
    "ax.set_title('Plotting Spatial Data on TU-NGV Map')\n",
    "ax.set_xlim(BBox[0],BBox[1])\n",
    "ax.set_ylim(BBox[2],BBox[3])\n"
   ]
  },
  {
   "cell_type": "code",
   "execution_count": 1550,
   "metadata": {},
   "outputs": [],
   "source": [
    "import numpy as np\n",
    "\n",
    "def interpcurve(N,pX,pY):\n",
    "    #equally spaced in arclength\n",
    "    N=np.transpose(np.linspace(0,1,N))\n",
    "\n",
    "    #how many points will be uniformly interpolated?\n",
    "    nt=N.size\n",
    "\n",
    "    #number of points on the curve\n",
    "    n=pX.size\n",
    "    pxy=np.array((pX,pY)).T\n",
    "    p1=pxy[0,:]\n",
    "    pend=pxy[-1,:]\n",
    "    last_segment= np.linalg.norm(np.subtract(p1,pend))\n",
    "    epsilon= 10*np.finfo(float).eps\n",
    "\n",
    "    #IF the two end points are not close enough lets close the curve\n",
    "    if last_segment > epsilon*np.linalg.norm(np.amax(abs(pxy),axis=0)):\n",
    "        pxy=np.vstack((pxy,p1))\n",
    "        nt = nt + 1\n",
    "    else:\n",
    "        print('Contour already closed')\n",
    "\n",
    "    pt=np.zeros((nt,2))\n",
    "\n",
    "    #Compute the chordal arclength of each segment.\n",
    "#     chordlen = (np.sum(np.diff(pxy,axis=0)**2,axis=1))**(1/2)\n",
    "    chordlen = haversine_np_array(pxy)\n",
    "    #Normalize the arclengths to a unit total\n",
    "    chordlen = chordlen/np.sum(chordlen)\n",
    "    #cumulative arclength\n",
    "    cumarc = np.append(0,np.cumsum(chordlen))\n",
    "\n",
    "    tbins= np.digitize(N,cumarc) # bin index in which each N is in\n",
    "\n",
    "    #catch any problems at the ends\n",
    "    tbins[np.where(tbins<=0 | (N<=0))]=1\n",
    "    tbins[np.where(tbins >= n | (N >= 1))] = n - 1      \n",
    "\n",
    "    s = np.divide((N - cumarc[tbins]),chordlen[tbins-1])\n",
    "    pt = pxy[tbins,:] + np.multiply((pxy[tbins,:] - pxy[tbins-1,:]),(np.vstack([s]*2)).T)\n",
    "\n",
    "    return pt "
   ]
  },
  {
   "cell_type": "code",
   "execution_count": 1551,
   "metadata": {},
   "outputs": [],
   "source": [
    "pt = interpcurve(1064, ngv1b.shape_pt_lon, ngv1b.shape_pt_lat )\n",
    "start_pt = pt[0]\n",
    "dist_arr = []\n",
    "bearing_arr = []\n",
    "speed = np.full((pt.shape[0]), 4.4 )\n",
    "\n",
    "for i in range(0, pt.shape[0]):\n",
    "    next_pt = pt[i]\n",
    "    dist = haversine_np(start_pt[0], start_pt[1], next_pt[0], next_pt[1])\n",
    "    dist_arr.append(dist)\n",
    "    b = bearing(start_pt[0], start_pt[1], next_pt[0], next_pt[1])\n",
    "    bearing_arr.append(b)\n",
    "    start_pt = next_pt\n",
    "route_info = pd.DataFrame({\n",
    "    'lon': pt.T[0],\n",
    "    'lat': pt.T[1],\n",
    "    'dist': dist_arr,\n",
    "    'bearing': bearing_arr,\n",
    "    'speed': speed,\n",
    "})\n",
    "route_info[\"time_to_next\"] = route_info.dist / route_info.speed"
   ]
  },
  {
   "cell_type": "code",
   "execution_count": 1552,
   "metadata": {},
   "outputs": [],
   "source": [
    "# stop located\n",
    "stop_time_df = pd.read_csv('stop_times.txt')\n",
    "stops_df = pd.read_csv('stops.txt')\n",
    "ngv1b_stops_df = stop_time_df[stop_time_df['trip_id'] == 'NGV-1b001']\n",
    "lat_arr = []\n",
    "lon_arr = []\n",
    "for index, row in ngv1b_stops_df.iterrows():\n",
    "    cur_row = stops_df.loc[stops_df['stop_id'] == row['stop_id']]\n",
    "    lat_arr.append(cur_row.stop_lat.values[0])\n",
    "    lon_arr.append(cur_row.stop_lon.values[0])\n",
    "ngv1b_stops = pd.DataFrame({\n",
    "    'stop_id': ngv1b_stops_df['stop_id'],\n",
    "    'stop_lat': lat_arr,\n",
    "    'stop_lon': lon_arr\n",
    "})\n",
    "# df.loc[df['column_name'] == some_value]"
   ]
  },
  {
   "cell_type": "code",
   "execution_count": 1553,
   "metadata": {},
   "outputs": [],
   "source": [
    "# stop route matching\n",
    "stops_loc_arr = []\n",
    "cur_index = 1\n",
    "for stop_index, stop_row in ngv1b_stops.iterrows():\n",
    "    shortest_index = -1\n",
    "    shortest_dist = 999999\n",
    "    for index, row in route_info.iloc[cur_index:].iterrows():\n",
    "        dist = haversine_np(stop_row.stop_lon, stop_row.stop_lat, row.lon, row.lat)\n",
    "#       closest road might be far on index\n",
    "        dist += (index - cur_index) * 1\n",
    "        if shortest_dist > dist:\n",
    "            shortest_dist = dist\n",
    "            shortest_index = index\n",
    "    cur_index = shortest_index\n",
    "    stops_loc_arr.append(cur_index)\n",
    "ngv1b_stops['stop_index'] = stops_loc_arr"
   ]
  },
  {
   "cell_type": "code",
   "execution_count": 1554,
   "metadata": {},
   "outputs": [
    {
     "data": {
      "image/png": "[encoded data removed]",
      "text/plain": [
       "<Figure size 576x504 with 1 Axes>"
      ]
     },
     "metadata": {
      "needs_background": "light"
     },
     "output_type": "display_data"
    }
   ],
   "source": [
    "import matplotlib.pyplot as plt\n",
    "\n",
    "BBox = ((df.shape_pt_lon.min(),   df.shape_pt_lon.max(),      \n",
    "         df.shape_pt_lat.min(), df.shape_pt_lat.max())\n",
    "       )\n",
    "        \n",
    "fig, ax = plt.subplots(figsize = (8,7))\n",
    "ax.scatter(route_info['lon'], route_info['lat'], zorder=1, alpha= 0.2, c='b', s=10)\n",
    "ax.set_title('Plotting Spatial Data on TU-NGV Map')\n",
    "ax.set_xlim(BBox[0],BBox[1])\n",
    "ax.set_ylim(BBox[2],BBox[3])\n",
    "# plot stop\n",
    "for stop_index, stop_row in ngv1b_stops.iterrows():\n",
    "    route_info_row = route_info.loc[stop_row['stop_index']]\n",
    "    plt.plot(route_info_row['lon'], route_info_row['lat'], 'ro')"
   ]
  },
  {
   "cell_type": "code",
   "execution_count": 1555,
   "metadata": {},
   "outputs": [
    {
     "data": {
      "text/plain": [
       "lon             1064\n",
       "lat             1064\n",
       "dist            1064\n",
       "bearing         1064\n",
       "speed           1064\n",
       "time_to_next    1064\n",
       "dtype: int64"
      ]
     },
     "execution_count": 1555,
     "metadata": {},
     "output_type": "execute_result"
    }
   ],
   "source": [
    "route_info.count()"
   ]
  },
  {
   "cell_type": "code",
   "execution_count": 1556,
   "metadata": {},
   "outputs": [
    {
     "data": {
      "text/plain": [
       "(14.0657426, 14.077905553749266)"
      ]
     },
     "execution_count": 1556,
     "metadata": {},
     "output_type": "execute_result"
    },
    {
     "data": {
      "image/png": "[encoded data removed]",
      "text/plain": [
       "<Figure size 576x504 with 1 Axes>"
      ]
     },
     "metadata": {
      "needs_background": "light"
     },
     "output_type": "display_data"
    }
   ],
   "source": [
    "import matplotlib.pyplot as plt\n",
    "\n",
    "BBox = ((df.shape_pt_lon.min(),   df.shape_pt_lon.max(),      \n",
    "         df.shape_pt_lat.min(), df.shape_pt_lat.max())\n",
    "       )\n",
    "        \n",
    "fig, ax = plt.subplots(figsize = (8,7))\n",
    "ax.scatter(gps_log.lon, gps_log.lat, zorder=1, alpha= 0.2, c='b', s=10)\n",
    "ax.set_title('Plotting Spatial Data on TU-NGV Map')\n",
    "ax.set_xlim(BBox[0],BBox[1])\n",
    "ax.set_ylim(BBox[2],BBox[3])"
   ]
  },
  {
   "cell_type": "code",
   "execution_count": 1557,
   "metadata": {},
   "outputs": [],
   "source": [
    "# %%timeit\n",
    "# stop route matching for gps_log\n",
    "\n",
    "matched_arr = []\n",
    "cur_index = 1\n",
    "# cur_index = 1\n",
    "def match_route(x):\n",
    "    global cur_index\n",
    "    ri = route_info[cur_index:]\n",
    "    bearing_dist = abs(x.direction - ri.bearing ) / 10\n",
    "    # bearing_dist.apply(lambda x: 36 - x if x > 18 else x)\n",
    "    dist = haversine_np(ri.lon.values, ri.lat.values, x.lon, x.lat)\n",
    "    dist += bearing_dist\n",
    "    dist += ri.index.values - cur_index\n",
    "    cur_index = dist.idxmin()\n",
    "    return dist.idxmin()\n",
    "gps_log['matched']  =  gps_log.apply(match_route, axis=1)"
   ]
  },
  {
   "cell_type": "code",
   "execution_count": 1558,
   "metadata": {},
   "outputs": [],
   "source": [
    "# stop closest position index\n",
    "ngv_stop_index = []\n",
    "for stop_index, stop_row in ngv1b_stops.iterrows():\n",
    "    closest_index = -1\n",
    "    closet_dist = 999999\n",
    "    for index, value in gps_log.iterrows():\n",
    "        dist = abs(stop_row['stop_index'] - value['matched'])\n",
    "        if dist < closet_dist:\n",
    "            closet_dist = dist\n",
    "            closest_index = index\n",
    "        if dist == 0:\n",
    "            break\n",
    "    ngv_stop_index.append(closest_index)\n",
    "ngv1b_stops['real'] = ngv_stop_index "
   ]
  },
  {
   "cell_type": "code",
   "execution_count": 1559,
   "metadata": {},
   "outputs": [
    {
     "data": {
      "text/plain": [
       "(14.0657426, 14.077905553749266)"
      ]
     },
     "execution_count": 1559,
     "metadata": {},
     "output_type": "execute_result"
    },
    {
     "data": {
      "image/png": "[encoded data removed]",
      "text/plain": [
       "<Figure size 576x504 with 1 Axes>"
      ]
     },
     "metadata": {
      "needs_background": "light"
     },
     "output_type": "display_data"
    }
   ],
   "source": [
    "import matplotlib.pyplot as plt\n",
    "\n",
    "BBox = ((df.shape_pt_lon.min(),   df.shape_pt_lon.max(),      \n",
    "         df.shape_pt_lat.min(), df.shape_pt_lat.max())\n",
    "       )\n",
    "        \n",
    "fig, ax = plt.subplots(figsize = (8,7))\n",
    "for i in range(len(gps_log['matched']) - 1):\n",
    "    index = gps_log.iloc[i]['matched']\n",
    "    r1 = route_info.loc[index]\n",
    "    plt.plot(r1.lon,  r1.lat, 'bo')\n",
    "for i in ngv_stop_index:\n",
    "    stop = gps_log.loc[i]\n",
    "    plt.plot(stop['lon'], stop['lat'], 'ro')\n",
    "    \n",
    "ax.set_title('Plotting Spatial Data on TU-NGV Map')\n",
    "ax.set_xlim(BBox[0],BBox[1])\n",
    "ax.set_ylim(BBox[2],BBox[3])"
   ]
  },
  {
   "cell_type": "code",
   "execution_count": 1631,
   "metadata": {},
   "outputs": [],
   "source": [
    "def estimate_arraival_time(cur_log, cur_index=1):\n",
    "    ri = route_info\n",
    "    bearing_dist = abs(cur_log.direction - ri.bearing ) / 10\n",
    "    # bearing_dist.apply(lambda x: 36 - x if x > 18 else x)\n",
    "    dist = haversine_np(ri.lon.values, ri.lat.values, cur_log.lon, cur_log.lat)\n",
    "    dist += bearing_dist\n",
    "    dist += ri.index.values - cur_index\n",
    "    cur_index = dist.idxmin()\n",
    "\n",
    "\n",
    "    # t = cum_time + (w1(v/d) + w2(vH/d)) / (w1 + w2)\n",
    "    ri = route_info[cur_index:]\n",
    "    w1 = cur_index / ri.index.values\n",
    "    t1 = ( cur_log.speed / 3.6 ) / ri.dist\n",
    "    w2 = 1 / w1\n",
    "    t2 = ri.time_to_next\n",
    "    time_arr = (w1 * t1 + w2 * t2) / (w1 + w2)\n",
    "    cum_time_arr = time_arr.cumsum()\n",
    "    stop_time_estimated = cum_time_arr[cum_time_arr.index.isin(ngv1b_stops.stop_index)]\n",
    "    stop_preceeding = ngv1b_stops[ngv1b_stops.stop_index.isin(stop_time_estimated.index)]\n",
    "    return stop_preceeding\n",
    "\n",
    "cur_log = gps_log.iloc[400]"
   ]
  },
  {
   "cell_type": "code",
   "execution_count": 1632,
   "metadata": {},
   "outputs": [
    {
     "name": "stdout",
     "output_type": "stream",
     "text": [
      "4.37 ms ± 32.2 µs per loop (mean ± std. dev. of 7 runs, 100 loops each)\n"
     ]
    }
   ],
   "source": [
    "%%timeit\n",
    "\n",
    "estimate_arraival_time(cur_log)"
   ]
  },
  {
   "cell_type": "code",
   "execution_count": 1627,
   "metadata": {},
   "outputs": [],
   "source": [
    "start_index = len(ngv_stop_index) - len(stop_estimate_list)\n",
    "cum_time = 0\n",
    "cum_time_arr = []\n",
    "for i in range(start_index, len(ngv_stop_index)):\n",
    "    real_index = ngv1b_stops.iloc[i]['real']\n",
    "    real_prev_index = ngv1b_stops.iloc[i-1]['real']\n",
    "    prev_time = gps_log.loc[real_prev_index]['timestamp']\n",
    "    cur_time = gps_log.loc[real_index]['timestamp']\n",
    "    cum_time += (cur_time - prev_time).total_seconds()\n",
    "    cum_time_arr.append(cum_time)"
   ]
  },
  {
   "cell_type": "code",
   "execution_count": 1628,
   "metadata": {},
   "outputs": [
    {
     "name": "stderr",
     "output_type": "stream",
     "text": [
      "D:\\Program Files\\Anaconda3\\lib\\site-packages\\numpy\\lib\\function_base.py:392: RuntimeWarning: Mean of empty slice.\n",
      "  avg = a.mean(axis)\n",
      "D:\\Program Files\\Anaconda3\\lib\\site-packages\\numpy\\core\\_methods.py:85: RuntimeWarning: invalid value encountered in double_scalars\n",
      "  ret = ret.dtype.type(ret / rcount)\n"
     ]
    },
    {
     "data": {
      "text/plain": [
       "nan"
      ]
     },
     "execution_count": 1628,
     "metadata": {},
     "output_type": "execute_result"
    }
   ],
   "source": [
    "np.average(np.abs(np.array(time_estimate_list) -  np.array(cum_time_arr)))"
   ]
  },
  {
   "cell_type": "code",
   "execution_count": 145,
   "metadata": {},
   "outputs": [],
   "source": [
    "# test1\n",
    "p1 = [ 100.59356, 14.07853 ]\n",
    "p2 = [ 100.616621, 14.065215 ]"
   ]
  },
  {
   "cell_type": "code",
   "execution_count": 152,
   "metadata": {},
   "outputs": [],
   "source": [
    "# test2\n",
    "p1 = [ 100.59319, 14.06613 ]\n",
    "p2 = [ 100.6175807, 14.0763817 ]"
   ]
  },
  {
   "cell_type": "code",
   "execution_count": 100,
   "metadata": {},
   "outputs": [
    {
     "name": "stdout",
     "output_type": "stream",
     "text": [
      "18.4 µs ± 95.8 ns per loop (mean ± std. dev. of 7 runs, 100000 loops each)\n"
     ]
    }
   ],
   "source": [
    "%%timeit\n",
    "haversine_np(p1[0], p1[1], p2[0], p2[1])"
   ]
  },
  {
   "cell_type": "code",
   "execution_count": 117,
   "metadata": {},
   "outputs": [
    {
     "name": "stdout",
     "output_type": "stream",
     "text": [
      "2.05 µs ± 24.1 ns per loop (mean ± std. dev. of 7 runs, 100000 loops each)\n"
     ]
    }
   ],
   "source": [
    "%%timeit\n",
    "qick_distance(p1[0], p1[1], p2[0], p2[1])"
   ]
  },
  {
   "cell_type": "code",
   "execution_count": 153,
   "metadata": {},
   "outputs": [
    {
     "name": "stdout",
     "output_type": "stream",
     "text": [
      "2867.099979803439\n",
      "2871.9704319269326\n"
     ]
    }
   ],
   "source": [
    "print(haversine_np(p1[0], p1[1], p2[0], p2[1]))  \n",
    "print(qick_distance(p1[0], p1[1], p2[0], p2[1]))"
   ]
  },
  {
   "cell_type": "code",
   "execution_count": 37,
   "metadata": {},
   "outputs": [],
   "source": [
    "with open('qgis-path/road.geojson', 'r', encoding='UTF8') as f:\n",
    "    with open('qgis-path/road-edit.geojson', 'w', encoding='UTF8')  as w:\n",
    "        for line in f:\n",
    "            if \"null\" in line:\n",
    "                continue\n",
    "            w.write(line)"
   ]
  },
  {
   "cell_type": "code",
   "execution_count": 156,
   "metadata": {},
   "outputs": [],
   "source": [
    "with open('qgis-path/road-edit.geojson', 'r', encoding=\"UTF8\") as f:\n",
    "    road = []\n",
    "    stop = []\n",
    "    for line in f:\n",
    "        if 'bus_stop' in line:\n",
    "            stop.append(line)\n",
    "            continue\n",
    "        elif 'LineString' in line:\n",
    "            road.append(line)\n",
    "        "
   ]
  },
  {
   "cell_type": "code",
   "execution_count": 181,
   "metadata": {},
   "outputs": [],
   "source": [
    "import json\n",
    "for line in road:\n",
    "    obj = json.loads(line.rstrip()[:-1])\n",
    "    obj['geometry']['coordinates']"
   ]
  },
  {
   "cell_type": "code",
   "execution_count": 183,
   "metadata": {},
   "outputs": [
    {
     "data": {
      "text/plain": [
       "{'type': 'Feature',\n",
       " 'id': 'way/754267308',\n",
       " 'properties': {'@id': 'way/754267308',\n",
       "  'highway': 'unclassified',\n",
       "  'lanes': '2',\n",
       "  'name': 'ถนนป๋วย อึ้งภากรณ์',\n",
       "  'oneway': 'no',\n",
       "  'name:en': 'Thanon Puey Ungpakorn'},\n",
       " 'geometry': {'type': 'LineString',\n",
       "  'coordinates': [[100.6042457, 14.0702513],\n",
       "   [100.6041087, 14.0702506],\n",
       "   [100.6033677, 14.0702483],\n",
       "   [100.6028675, 14.070241],\n",
       "   [100.602773, 14.0702442],\n",
       "   [100.6027029, 14.0702446],\n",
       "   [100.6020089, 14.0702403],\n",
       "   [100.6019109, 14.070238],\n",
       "   [100.6018625, 14.0702362],\n",
       "   [100.6017196, 14.0702323],\n",
       "   [100.6016591, 14.0702306]]}}"
      ]
     },
     "execution_count": 183,
     "metadata": {},
     "output_type": "execute_result"
    }
   ],
   "source": [
    "obj"
   ]
  },
  {
   "cell_type": "code",
   "execution_count": 1564,
   "metadata": {},
   "outputs": [],
   "source": [
    "global road\n",
    "with open('qgis-path/road-edit.geojson', 'r', encoding=\"UTF8\") as f:\n",
    "    road = geojson.loads(\"\".join(f.readlines()))"
   ]
  },
  {
   "cell_type": "code",
   "execution_count": 1565,
   "metadata": {},
   "outputs": [],
   "source": [
    "dist_arr = []\n",
    "for feature in road['features']:\n",
    "    if feature['geometry']['type'] != \"LineString\":\n",
    "        continue\n",
    "    coordinates = feature['geometry']['coordinates']\n",
    "    coordinates = np.array(coordinates).T\n",
    "    dist = haversine_np(coordinates[0][:-1], coordinates[1][:-1],\n",
    "                        coordinates[0][1:], coordinates[1][1:])\n",
    "    dist_arr.append(dist)"
   ]
  },
  {
   "cell_type": "code",
   "execution_count": 1688,
   "metadata": {},
   "outputs": [],
   "source": [
    "def bearing_compute(lon1, lat1, lon2, lat2):\n",
    "    \"\"\"compute bearing between lon1,lat1 and lon2,lat2\n",
    "    Returns:\n",
    "    float: degree bearning (north = 0, east = 90, south = 180, west = 270)\n",
    "    \"\"\"\n",
    "    lon1, lat1, lon2, lat2 = map(np.radians, [lon1, lat1, lon2, lat2])\n",
    "    dlon = lon2 - lon1\n",
    "    x = np.sin(dlon) * np.cos(lat2)\n",
    "    y = np.cos(lat1) * np.sin(lat2) - np.sin(lat1) * np.cos(lat2) * np.cos(dlon)\n",
    "    brng = np.arctan2(x, y)\n",
    "    brng =  np.degrees(brng)\n",
    "    brng = (brng + 360) % 360\n",
    "    return brng\n",
    "\n",
    "def angle_compute(lon1, lat1, lon2, lat2):\n",
    "    dlon = lon2 - lon1\n",
    "    dlat = lat2 - lat1\n",
    "    brng = np.arctan2(dlon, dlat)\n",
    "    brng = np.degrees(brng)\n",
    "    brng = (brng + 360) % 360\n",
    "    return brng\n",
    "\n",
    "def bearing(p1, p2):\n",
    "    \"\"\"Bearing between point 1 and point 2\"\"\"\n",
    "    return angle_compute(p1.lon, p1.lat, p2.lon, p2.lat)\n",
    "\n",
    "def bearing_np(lon1, lat1, lon2, lat2):\n",
    "    return angle_compute(lon1, lat1, lon2, lat2)\n",
    "\n",
    "def inverse_bearing(brng):\n",
    "    return (brng  + 180 ) % 360\n",
    "\n",
    "def bad(brng1, brng2):\n",
    "    \"\"\"Distance between brng1 and brng2 (degree)\n",
    "    Returns:\n",
    "    float: absolute degree different\n",
    "    \"\"\"\n",
    "    dBrng = abs(brng1 - brng2)\n",
    "    if dBrng > 180:\n",
    "        dBrng = 360 - dBrng\n",
    "    return dBrng\n",
    "    \n",
    "def turn_dist(brng1, brng2):\n",
    "    return bad(brng1, brng2) * (15 / 180)\n",
    "\n",
    "\n",
    "def turn_dist_np(brng1, brng2):\n",
    "    return bad_np(brng1, brng2) * (15 / 180)\n",
    "\n",
    "def bad_np(brng1, brng2):\n",
    "    dBrng = abs(brng1 - brng2)\n",
    "    temp = dBrng > 180\n",
    "    dBrng[temp] = 360 - dBrng[temp]\n",
    "    return dBrng\n",
    "    \n",
    "    \n",
    "def h_dist(p1, p2):\n",
    "    \"\"\" haversine distance between point 1 and point 2\"\"\"\n",
    "    return euclidean_dist(p1.lon, p1.lat, p2.lon, p2.lat)\n",
    "\n",
    "def cross_track_dist(dist_SP, brng_SP, brng_SE):\n",
    "    \"\"\" cross track distance\n",
    "    Parameters:\n",
    "    float: dist_SP\n",
    "    float: brng_SP (deg)\n",
    "    float: brng_SE (deg)\n",
    "    \"\"\"\n",
    "    brng_SP, brng_SE = map(np.radians, [brng_SP, brng_SE])\n",
    "    dist = np.arcsin(np.sin(dist_SP / EARTH_RADIUS) * np.sin(brng_SP - brng_SE)) * EARTH_RADIUS    \n",
    "    return abs(dist)\n",
    "\n",
    "def closest_dist(p, s, e):\n",
    "    \"\"\"Closest distance between point p and line SE based on cross_track distance\n",
    "    \"\"\"\n",
    "    brng_SE = bearing(s, e)\n",
    "    brng_SP = bearing(s, p)\n",
    "    brng_ES = inverse_bearing(brng_SE)\n",
    "    brng_EP = bearing(e, p)\n",
    "    \n",
    "    dist_SP = h_dist(s, p)\n",
    "    #     obtuse case\n",
    "    if bad(brng_SE, brng_SP) >= 90: \n",
    "        return dist_SP\n",
    "    #     acute\n",
    "    elif bad(brng_ES, brng_EP) >= 90:\n",
    "        dist_EP = h_dist(e, p)\n",
    "        return dist_EP\n",
    "    else:\n",
    "#         return abs(np.sin(np.radians(bad(brng_SE, brng_SP))) * dist_SP)\n",
    "        return cross_track_dist(dist_SP, brng_SP, brng_SE)\n",
    "    "
   ]
  },
  {
   "cell_type": "code",
   "execution_count": 1729,
   "metadata": {},
   "outputs": [],
   "source": [
    "import matplotlib.pyplot as plt\n",
    "\n",
    "class Time_Travel_Speed:\n",
    "    def __init__(self):\n",
    "        self.mon : list = [40] * 24\n",
    "        self.tue : list = [40] * 24\n",
    "        self.wed : list = [40] * 24\n",
    "        self.thu : list = [40] * 24\n",
    "        self.fri : list = [40] * 24\n",
    "        self.sat : list = [40] * 24\n",
    "        self.sun : list = [40] * 24\n",
    "    \n",
    "class Point:\n",
    "    def __init__(self, pid, lon, lat, direction=0):\n",
    "        self.pid: str = pid\n",
    "        self.lon: float = lon\n",
    "        self.lat: float = lat\n",
    "        self.direction: float = direction\n",
    "    \n",
    "    def intersect(self, lon, lat, thres):\n",
    "        if haversine_np(lon, lat, self.lon, self.lat) < thres:\n",
    "            return True\n",
    "        return False\n",
    "    \n",
    "    def draw(self, color=\"ro\", markersize=\"1\"):\n",
    "        plt.plot(self.lon, self.lat, color, markersize=markersize)\n",
    "    \n",
    "    def __repr__(self):\n",
    "        return  f\"pid: {self.pid} lon: {self.lon}, lat: {self.lat}\"\n",
    "    def __str__(self):\n",
    "        return  f\"pid: {self.pid} lon: {self.lon}, lat: {self.lat}\"\n",
    "\n",
    "class Segment:\n",
    "    def __init__(self, sid, ps, pe):\n",
    "        self.sid : str = sid\n",
    "        self.ps : Point = ps\n",
    "        self.pe : Point = pe\n",
    "        self.dist : float = 0\n",
    "        self.bearing : float = 0\n",
    "        self.bearing_backward : float = 0\n",
    "        self.init()\n",
    "        \n",
    "    def draw(self, color=\"k-\"):\n",
    "        plt.plot([self.ps.lon, self.pe.lon], [self.ps.lat, self.pe.lat], color)\n",
    "        \n",
    "    def init(self):\n",
    "        self.dist = h_dist( self.ps, self.pe )\n",
    "        self.bearing = bearing(self.ps, self.pe)\n",
    "        self.bearing_backward = inverse_bearing(self.bearing)\n",
    "        \n",
    "    def d2p(self, p):\n",
    "        \"\"\" Closest distance to point \"\"\"\n",
    "        brng_SE = self.bearing   \n",
    "        brng_SP = bearing(self.ps, p)\n",
    "        brng_ES = self.bearing_backward\n",
    "        brng_EP = bearing(self.pe, p)\n",
    "        dist_SP = h_dist(self.ps, p)\n",
    "        td = turn_dist(p.direction, brng_SE)\n",
    "        #     obtuse case\n",
    "        if bad(brng_SE, brng_SP) >= 90: \n",
    "            return dist_SP + td\n",
    "        #     acute\n",
    "        elif bad(brng_ES, brng_EP) >= 90:\n",
    "            dist_EP = h_dist(self.pe, p)\n",
    "            return dist_EP + td\n",
    "        else:\n",
    "            return cross_track_dist(dist_SP, brng_SP, brng_SE) + td\n",
    "        \n",
    "    def match(self, p):\n",
    "        \"\"\" match point with segment\"\"\"\n",
    "        brng_SE = self.bearing   \n",
    "        brng_SP = bearing(self.ps, p)\n",
    "        brng_ES = self.bearing_backward\n",
    "        brng_EP = bearing(self.pe, p)\n",
    "        #     obtuse case\n",
    "        if bad(brng_SE, brng_SP) >= 90: \n",
    "            return self.ps\n",
    "        #     acute\n",
    "        elif bad(brng_ES, brng_EP) >= 90:\n",
    "            return self.pe\n",
    "        else:\n",
    "            d_SP = h_dist(self.ps, p)\n",
    "            a_SP_SE = np.radians(bad(brng_SP, brng_SE))\n",
    "            ATD = abs(np.cos(a_SP_SE) * d_SP)\n",
    "            per = ATD / self.dist\n",
    "            lat_n = self.ps.lat + (self.pe.lat - self.ps.lat) * per\n",
    "            lon_n = self.ps.lon + (self.pe.lon - self.ps.lon) * per\n",
    "            return Point('', lon_n, lat_n, brng_SE)\n",
    "            \n",
    "class Trajectory:\n",
    "    def __init__(self, tid, ps, pe, tts = None ):\n",
    "        self.S : list = []\n",
    "        self.tid : str = tid\n",
    "        self.ps : Point = ps\n",
    "        self.pe : Point = pe\n",
    "        self.speed : Time_Travel_Speed = tts\n",
    "        self.dist : float = 0\n",
    "        self.bearing_forward : float\n",
    "        self.bearing_backward : float\n",
    "        self.dist_SE : float\n",
    "        self.init()\n",
    "        \n",
    "    def init(self):\n",
    "        self.bearing_forward = bearing(self.ps, self.pe)\n",
    "        self.bearing_backward = inverse_bearing(self.bearing_forward)\n",
    "        self.dist_SE = h_dist(self.ps, self.pe)\n",
    "        if not self.speed:\n",
    "            self.speed = Time_Travel_Speed()\n",
    "    \n",
    "    def add_segment(self, segment):\n",
    "        self.S.append(segment)\n",
    "        self.dist += segment.dist\n",
    "        \n",
    "    def d2p(self, p):\n",
    "        \"\"\" closest segment and distance from a segment to point\"\"\"\n",
    "        dist_arr = []\n",
    "        for s in self.S:\n",
    "            dist_arr.append(s.d2p(p))\n",
    "        return [ self.S[np.argmin(dist_arr)], np.min(dist_arr) ]\n",
    "            \n",
    "\n",
    "class Graph:\n",
    "    def __init__(self):\n",
    "        self.points : dict = {}\n",
    "        self.segments : dict = {}\n",
    "        self.trajectory : dict = {}\n",
    "            \n",
    "    def get_point_by_id(self, pid):\n",
    "        return self.points[pid]\n",
    "    \n",
    "    def get_point(self, lon, lat, thres):\n",
    "        for pid in self.points:\n",
    "            p = self.get_point_by_id(pid)\n",
    "            if p.intersect(lon, lat, thres):\n",
    "                return p\n",
    "        \n",
    "    def  get_segment_by_id(self, sid):\n",
    "        return self.segments[sid]\n",
    "                \n",
    "    def get_trajectory_by_id(self, tid):\n",
    "        return self.trajectory[tid]\n",
    "    \n",
    "    def add_point(self, pid, lon, lat):\n",
    "        if pid in self.points:\n",
    "            return self.get_point_by_id(pid)\n",
    "        \n",
    "        p = self.get_point(lon, lat, 5)\n",
    "        if p: return p\n",
    "        \n",
    "        p  = Point(pid, lon, lat)\n",
    "        self.points[pid] = p\n",
    "        return p\n",
    "    \n",
    "    def add_segment(self, sid, ps, pe):\n",
    "        if sid in self.segments:\n",
    "            return  self.get_segment_by_id(sid)\n",
    "        s = Segment(sid, ps, pe)\n",
    "        self.segments[sid]= s\n",
    "        return s\n",
    "            \n",
    "    def add_trajectory(self, tid, ps, pe):\n",
    "        if tid in self.trajectory:\n",
    "            return self.get_trajectory_by_id(tid)\n",
    "        else:\n",
    "            t = Trajectory(tid, ps, pe)\n",
    "            self.trajectory[tid] = t\n",
    "            return t\n",
    "    \n",
    "    def get_segment_df(self):\n",
    "        temp = []\n",
    "        for sid in G.segments:\n",
    "            s = G.segments[sid]\n",
    "            temp.append([s.ps.lon, s.ps.lat, s.pe.lon, s.pe.lat, s.bearing, s.bearing_backward, s.dist])\n",
    "        temp = np.array(temp).T\n",
    "        segment_df = pd.DataFrame({\n",
    "            \"ps_lon\": temp[0],\n",
    "            \"ps_lat\": temp[1],\n",
    "            \"pe_lon\": temp[2],\n",
    "            \"pe_lat\": temp[3],\n",
    "            \"bearing\": temp[4],\n",
    "            \"bearing_backward\": temp[5],\n",
    "            \"dist\": temp[6],\n",
    "            \"sid\": list(G.segments.keys())\n",
    "        })\n",
    "        return segment_df\n",
    "        \n"
   ]
  },
  {
   "cell_type": "code",
   "execution_count": 1730,
   "metadata": {},
   "outputs": [],
   "source": [
    "G = Graph()\n",
    "for feature in road['features']:\n",
    "    if feature['geometry']['type'] != \"LineString\":\n",
    "        continue\n",
    "    tid = feature['id']\n",
    "    coordinates =  feature['geometry']['coordinates']\n",
    "    \n",
    "    oneway = False\n",
    "    if \"oneway\" in feature:\n",
    "        oneway = feature[\"oneway\"]\n",
    "    \n",
    "    ps = G.add_point( f\"p_{tid}_0\",\n",
    "                coordinates[0][0],\n",
    "                coordinates[0][1]\n",
    "              )\n",
    "    pe = G.add_point( f\"p_{tid}_{len(coordinates) - 1}\",\n",
    "                coordinates[-1][0], \n",
    "                coordinates[-1][1]\n",
    "              )\n",
    "    t = G.add_trajectory(f'{tid}_f', ps, pe)\n",
    "    if not oneway:\n",
    "        t_b = G.add_trajectory(f'{tid}_b', pe, ps)\n",
    "        \n",
    "    for i in range(len(coordinates) - 1):\n",
    "        pe = G.add_point(f\"p_{tid}_{i + 1}\",\n",
    "                         coordinates[i + 1][0],\n",
    "                         coordinates[i + 1][1]\n",
    "                        )\n",
    "        s = G.add_segment(f'{ps.pid}__{pe.pid}', ps, pe)\n",
    "        t.add_segment(s)\n",
    "        \n",
    "        if not oneway:\n",
    "            s_b = G.add_segment(f'{pe.pid}__{ps.pid}', pe, ps)\n",
    "            t_b.add_segment(s_b)\n",
    "        ps = pe"
   ]
  },
  {
   "cell_type": "code",
   "execution_count": 1731,
   "metadata": {},
   "outputs": [],
   "source": [
    "EARTH_RADIUS = 6371000\n",
    "\n",
    "def get_closest_segment(lon, lat, direction,thres=6):\n",
    "#     c = get_candidate_trajectory(lon, lat, thres)\n",
    "    candidate = []\n",
    "    p = Point('', lon, lat, direction)\n",
    "\n",
    "    for tid in G.trajectory:\n",
    "        traj = G.get_trajectory_by_id(tid)\n",
    "        c = traj.d2p(p)\n",
    "        candidate.append([tid, c[0], c[1]])\n",
    "    c_index = np.argmin(np.array(candidate).T[2])\n",
    "    return candidate[c_index]\n",
    "\n",
    "def get_closest_segment_np(segment_df, lon, lat, direction, thres=6):\n",
    "    ps_lon = segment_df['ps_lon'].values\n",
    "    ps_lat = segment_df['ps_lat'].values\n",
    "    pe_lon = segment_df['pe_lon'].values\n",
    "    pe_lat = segment_df['pe_lat'].values\n",
    "\n",
    "    brng_SE = segment_df['bearing'].values\n",
    "    brng_SP = bearing_np(ps_lon, ps_lat, lon, lat)\n",
    "    brng_ES = segment_df['bearing_backward'].values\n",
    "    brng_EP = bearing_np(pe_lon, pe_lat, lon, lat)\n",
    "    dist_SP = euclidean_dist(ps_lon,ps_lat, lon, lat)\n",
    "    dist_EP = euclidean_dist(pe_lon, pe_lat, lon, lat)\n",
    "    # cross_track dist\n",
    "    dist = cross_track_dist(dist_SP, brng_SP, brng_SE)\n",
    "    # obtuse case\n",
    "    dist_obtuse = bad_np(brng_SE, brng_SP) >= 90\n",
    "    dist[dist_obtuse] = dist_SP[dist_obtuse]\n",
    "    # acute case\n",
    "    dist_acute = bad_np(brng_ES, brng_EP) >= 90\n",
    "    dist[dist_acute] = dist_EP[dist_acute]\n",
    "\n",
    "    td = turn_dist_np(direction, brng_SE)\n",
    "    dist += td\n",
    "    min_dist = np.argmin(dist)\n",
    "    return segment_df.iloc[np.argmin(dist)].sid"
   ]
  },
  {
   "cell_type": "code",
   "execution_count": 1732,
   "metadata": {},
   "outputs": [],
   "source": [
    "# %%timeit\n",
    "# gps = gps_log.iloc[250]\n",
    "# p = Point('', gps.lon, gps.lat, gps.direction)\n",
    "# c = get_closest_segment(gps.lon, gps.lat, gps.direction)\n",
    "# c[1].match(p)\n",
    "# # print(gps)\n",
    "segment_df = G.get_segment_df()\n",
    "gc = []\n",
    "for i, gps in gps_log.iterrows():\n",
    "# # # %%timeit\n",
    "    \n",
    "    sid = get_closest_segment_np(segment_df, gps.lon, gps.lat, gps.direction)\n",
    "    \n",
    "    p = Point('', gps.lon, gps.lat, gps.direction)\n",
    "#     print(c[1].match(p))\n",
    "    gc.append([ G.get_segment_by_id(sid).match(p), p])\n",
    "\n",
    "# print(len(c))"
   ]
  },
  {
   "cell_type": "code",
   "execution_count": 1733,
   "metadata": {},
   "outputs": [
    {
     "data": {
      "image/png": "[encoded data removed]",
      "text/plain": [
       "<Figure size 720x504 with 1 Axes>"
      ]
     },
     "metadata": {
      "needs_background": "light"
     },
     "output_type": "display_data"
    }
   ],
   "source": [
    "BBox = (100.59466123580931, 100.6096762418747, 14.0657426, 14.077905553749266)\n",
    "ax.set_title('Plotting Spatial Data on TU-NGV Map')\n",
    "ax.set_xlim(BBox[0],BBox[1])\n",
    "ax.set_ylim(BBox[2],BBox[3])\n",
    "\n",
    "fig, ax = plt.subplots(figsize = (10,7))\n",
    "for sid in G.segments:\n",
    "    G.segments[sid].draw()\n",
    "# for gid, gps in gps_log.iloc[499:501].iterrows():\n",
    "# plt.plot(gps['lon'], gps['lat'], \"bo\", markersize=5)\n",
    "\n",
    "# tid, segment, dist = c\n",
    "# segment.ps.draw('go')\n",
    "# segment.pe.draw('go')\n",
    "# segment.match(p).draw('bo')\n",
    "# segment.draw('r')\n",
    "\n",
    "for match_p, gps_p in gc:\n",
    "    gps_p.draw('ro', markersize=3)\n",
    "    match_p.draw('go', markersize=3)\n",
    "    \n",
    "# traj = G.get_trajectory_by_id('way/228788194_b')\n",
    "# traj.ps.draw('bo')\n",
    "# traj.pe.draw('bo')\n",
    "# for segment in traj.S:\n",
    "#     segment.draw('b-')\n",
    "    "
   ]
  },
  {
   "cell_type": "code",
   "execution_count": null,
   "metadata": {},
   "outputs": [],
   "source": [
    "    coordinates = feature['geometry']['coordinates']\n",
    "    coordinates = np.array(coordinates).T\n",
    "    dist = haversine_np(coordinates[0][:-1], coordinates[1][:-1],\n",
    "                        coordinates[0][1:], coordinates[1][1:])\n",
    "    dist_arr.append(dist)"
   ]
  },
  {
   "cell_type": "code",
   "execution_count": 1372,
   "metadata": {},
   "outputs": [
    {
     "name": "stdout",
     "output_type": "stream",
     "text": [
      "0\n"
     ]
    },
    {
     "ename": "IndexError",
     "evalue": "list index out of range",
     "output_type": "error",
     "traceback": [
      "\u001b[1;31m---------------------------------------------------------------------------\u001b[0m",
      "\u001b[1;31mIndexError\u001b[0m                                Traceback (most recent call last)",
      "\u001b[1;32m<ipython-input-1372-28ce67bad9f2>\u001b[0m in \u001b[0;36m<module>\u001b[1;34m\u001b[0m\n\u001b[0;32m      5\u001b[0m \u001b[0mp\u001b[0m \u001b[1;33m=\u001b[0m \u001b[0mPoint\u001b[0m\u001b[1;33m(\u001b[0m\u001b[1;34m''\u001b[0m\u001b[1;33m,\u001b[0m \u001b[0mgps\u001b[0m\u001b[1;33m.\u001b[0m\u001b[0mlon\u001b[0m\u001b[1;33m,\u001b[0m \u001b[0mgps\u001b[0m\u001b[1;33m.\u001b[0m\u001b[0mlat\u001b[0m\u001b[1;33m)\u001b[0m\u001b[1;33m\u001b[0m\u001b[1;33m\u001b[0m\u001b[0m\n\u001b[0;32m      6\u001b[0m \u001b[1;31m# traj = G.get_trajectory_by_id('way/228788194_b')\u001b[0m\u001b[1;33m\u001b[0m\u001b[1;33m\u001b[0m\u001b[1;33m\u001b[0m\u001b[0m\n\u001b[1;32m----> 7\u001b[1;33m \u001b[0mtraj\u001b[0m \u001b[1;33m=\u001b[0m \u001b[0mc\u001b[0m\u001b[1;33m[\u001b[0m\u001b[1;36m0\u001b[0m\u001b[1;33m]\u001b[0m\u001b[1;33m\u001b[0m\u001b[1;33m\u001b[0m\u001b[0m\n\u001b[0m\u001b[0;32m      8\u001b[0m \u001b[0mtraj\u001b[0m\u001b[1;33m.\u001b[0m\u001b[0mps\u001b[0m\u001b[1;33m.\u001b[0m\u001b[0mdraw\u001b[0m\u001b[1;33m(\u001b[0m\u001b[1;34m'go'\u001b[0m\u001b[1;33m)\u001b[0m\u001b[1;33m\u001b[0m\u001b[1;33m\u001b[0m\u001b[0m\n\u001b[0;32m      9\u001b[0m \u001b[0mtraj\u001b[0m\u001b[1;33m.\u001b[0m\u001b[0mpe\u001b[0m\u001b[1;33m.\u001b[0m\u001b[0mdraw\u001b[0m\u001b[1;33m(\u001b[0m\u001b[1;34m'bo'\u001b[0m\u001b[1;33m)\u001b[0m\u001b[1;33m\u001b[0m\u001b[1;33m\u001b[0m\u001b[0m\n",
      "\u001b[1;31mIndexError\u001b[0m: list index out of range"
     ]
    }
   ],
   "source": [
    "\n",
    "gps = gps_log.loc[235]\n",
    "c = get_closest_segment(gps.lon, gps.lat)\n",
    "print(len(c))\n",
    "p = Point('', gps.lon, gps.lat)\n",
    "# traj = G.get_trajectory_by_id('way/228788194_b')\n",
    "traj = c[0]\n",
    "traj.ps.draw('go')\n",
    "traj.pe.draw('bo')\n",
    "p.draw()\n",
    "\n",
    "s = traj.ps\n",
    "e = traj.pe\n",
    "plt.plot([s.lon, e.lon], [s.lat, e.lat])\n",
    "    \n",
    "closest_dist(p, s, e)"
   ]
  },
  {
   "cell_type": "code",
   "execution_count": null,
   "metadata": {},
   "outputs": [],
   "source": []
  },
  {
   "cell_type": "code",
   "execution_count": null,
   "metadata": {},
   "outputs": [],
   "source": []
  }
 ],
 "metadata": {
  "kernelspec": {
   "display_name": "Python 3",
   "language": "python",
   "name": "python3"
  },
  "language_info": {
   "codemirror_mode": {
    "name": "ipython",
    "version": 3
   },
   "file_extension": ".py",
   "mimetype": "text/x-python",
   "name": "python",
   "nbconvert_exporter": "python",
   "pygments_lexer": "ipython3",
   "version": "3.7.3"
  }
 },
 "nbformat": 4,
 "nbformat_minor": 2
}
